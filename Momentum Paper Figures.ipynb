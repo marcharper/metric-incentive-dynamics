{
  "nbformat": 4,
  "nbformat_minor": 0,
  "metadata": {
    "kernelspec": {
      "display_name": "Python 3",
      "language": "python",
      "name": "python3"
    },
    "language_info": {
      "codemirror_mode": {
        "name": "ipython",
        "version": 3
      },
      "file_extension": ".py",
      "mimetype": "text/x-python",
      "name": "python",
      "nbconvert_exporter": "python",
      "pygments_lexer": "ipython3",
      "version": "3.7.4"
    },
    "colab": {
      "name": "Momentum Paper Figures.ipynb",
      "provenance": []
    }
  },
  "cells": [
    {
      "cell_type": "markdown",
      "metadata": {
        "id": "Z-dHx-HK3EDs",
        "colab_type": "text"
      },
      "source": [
        "# Python Imports"
      ]
    },
    {
      "cell_type": "code",
      "metadata": {
        "id": "Guz9o7_C3InK",
        "colab_type": "code",
        "colab": {}
      },
      "source": [
        "!pip install -q python-ternary\n",
        "!pip install -q git+https://github.com/marcharper/pyed.git"
      ],
      "execution_count": 0,
      "outputs": []
    },
    {
      "cell_type": "code",
      "metadata": {
        "id": "Poo8Il2G4LZw",
        "colab_type": "code",
        "colab": {}
      },
      "source": [
        "# For Colab, uncomment the command below:\n",
        "# Add LaTeX fonts for saving Matplotlib figures with LaTex annotations.\n",
        "# !apt install -q texlive-fonts-recommended texlive-fonts-extra cm-super dvipng"
      ],
      "execution_count": 0,
      "outputs": []
    },
    {
      "cell_type": "code",
      "metadata": {
        "id": "6KnteMxG3EDu",
        "colab_type": "code",
        "colab": {}
      },
      "source": [
        "import inspect\n",
        "from functools import partial\n",
        "from math import sqrt\n",
        "\n",
        "import numpy as np\n",
        "from matplotlib import pyplot as plt\n",
        "import matplotlib.gridspec as gridspec\n",
        "from scipy import stats\n",
        "\n",
        "import ternary"
      ],
      "execution_count": 0,
      "outputs": []
    },
    {
      "cell_type": "code",
      "metadata": {
        "id": "dr42P83L3EDz",
        "colab_type": "code",
        "colab": {}
      },
      "source": [
        "from matplotlib import rc\n",
        "rc('figure', **{'figsize': (16, 8)})\n",
        "rc('font', **{'family': 'sans-serif', 'sans-serif': ['Helvetica']})\n",
        "rc('text', usetex=True)\n",
        "rc('axes', labelsize=18, titlesize=18)\n",
        "rc('legend',fontsize=16)\n",
        "rc('xtick',labelsize=14)\n",
        "rc('ytick',labelsize=14)"
      ],
      "execution_count": 0,
      "outputs": []
    },
    {
      "cell_type": "code",
      "metadata": {
        "id": "RvC6bSwA3ED4",
        "colab_type": "code",
        "colab": {}
      },
      "source": [
        "import pyed\n",
        "from pyed import dynamics, geometries, incentives, information, normalize\n",
        "from pyed.incentives import (\n",
        "    linear_fitness, fermi_incentive, logit_incentive, replicator_incentive_power, \n",
        "    rock_paper_scissors, uniform_mutation_matrix)\n",
        "from pyed.dynamics import compute_trajectory, replicator_trajectory"
      ],
      "execution_count": 0,
      "outputs": []
    },
    {
      "cell_type": "code",
      "metadata": {
        "id": "hJPiCUg33ED9",
        "colab_type": "code",
        "colab": {}
      },
      "source": [
        "# Make images directory\n",
        "from pathlib import Path\n",
        "\n",
        "path = Path(\"images\")\n",
        "path.mkdir(exist_ok=True)"
      ],
      "execution_count": 0,
      "outputs": []
    },
    {
      "cell_type": "markdown",
      "metadata": {
        "id": "G2tflrvK3EEB",
        "colab_type": "text"
      },
      "source": [
        "# Plotting and Figures"
      ]
    },
    {
      "cell_type": "code",
      "metadata": {
        "id": "-ahJXXdL3EEC",
        "colab_type": "code",
        "colab": {}
      },
      "source": [
        "def plot_trajectories(data, params, divergence=None):\n",
        "    if not divergence:\n",
        "        divergence = information.kl_divergence\n",
        "\n",
        "    gs = gridspec.GridSpec(1, 2)\n",
        "    \n",
        "    # Trajectory plots\n",
        "    ax = plt.subplot(gs[0, 0])\n",
        "    figure, tax = ternary.figure(ax=ax)\n",
        "    for i, (momentum, color) in enumerate(params):\n",
        "        if isinstance(momentum, float) or isinstance(momentum, int):\n",
        "          label = '$\\\\beta$ = {:.2f}'.format(momentum)\n",
        "        else:\n",
        "          label = momentum\n",
        "        tax.plot(data[i], linewidth=2, color=color, label=label)\n",
        "    tax.boundary()\n",
        "    tax.ax.set_title(\"Trajectories\")\n",
        "    tax.legend()\n",
        "\n",
        "    # Divergences\n",
        "    ax = plt.subplot(gs[0, 1])\n",
        "    for i, (momentum, color) in enumerate(params):\n",
        "        e = normalize(np.array([1, 1, 1]))\n",
        "        v = [divergence(e, x) for x in data[i]]\n",
        "        if isinstance(momentum, float) or isinstance(momentum, int):\n",
        "          label = '$\\\\beta$ = {:.2f}'.format(momentum)\n",
        "        else:\n",
        "          label = momentum\n",
        "        ax.plot(range(len(data[i])), v, color=color, label=label)\n",
        "    ax.set_title(\"Divergences\")\n",
        "    ax.legend()\n",
        "\n",
        "    \n",
        "def plot_convergence(data, params, divergence=None):\n",
        "    if not divergence:\n",
        "        divergence = information.kl_divergence\n",
        "\n",
        "    gs = gridspec.GridSpec(1, 2)\n",
        "    \n",
        "    # Divergences\n",
        "    ax = plt.subplot(gs[0, 0])\n",
        "    e = normalize(np.array([1, 1, 1]))\n",
        "    for i, (momentum, color) in enumerate(params):\n",
        "        v = [divergence(e, x) for x in data[i]]\n",
        "        ratios = [np.log(x / v[0]) for k, x in enumerate(v)]\n",
        "        if isinstance(momentum, float) or isinstance(momentum, int):\n",
        "          label = '$\\\\beta$ = {:.2f}'.format(momentum)\n",
        "        else:\n",
        "          label = momentum\n",
        "        ax.plot(range(len(data[i])), ratios, color=color, label=label)\n",
        "    ax.set_title(\"Log Divergence ratio\")\n",
        "    ax.legend()\n",
        "\n",
        "    # Divergences\n",
        "    ax = plt.subplot(gs[0, 1])\n",
        "    e = normalize(np.array([1, 1, 1]))\n",
        "    for i, (momentum, color) in enumerate(params):\n",
        "        v = [divergence(e, x) for x in data[i]]\n",
        "        ratios = [v[k] / v[k-1] for k, x in list(enumerate(v))[1:]]\n",
        "        if isinstance(momentum, float) or isinstance(momentum, int):\n",
        "          label = '$\\\\beta$ = {:.2f}'.format(momentum)\n",
        "        else:\n",
        "          label = momentum\n",
        "        ax.plot(list(range(len(data[i])))[1:], ratios, color=color, label=label)\n",
        "    \n",
        "    ax.set_title(\"log Divergence ratio subsequent\")\n",
        "    ax.legend()    \n",
        "    \n",
        "    \n",
        "def time_to(data, params, divergence=None, domain=None):\n",
        "    if not divergence:\n",
        "        divergence = information.kl_divergence\n",
        "\n",
        "    if not len(domain) > 0:\n",
        "        domain = list(np.arange(0.4, 0.05, -0.01))\n",
        "    \n",
        "    def process_data(ds):\n",
        "        ys = []\n",
        "        for x in domain:\n",
        "            found = False\n",
        "            for i, d in enumerate(ds):\n",
        "                if d < x:\n",
        "                    ys.append(i)\n",
        "                    found = True\n",
        "                    break\n",
        "            if not found:\n",
        "                ys.append(len(ds))\n",
        "        return np.array(ys)\n",
        "    \n",
        "    gs = gridspec.GridSpec(1, 2)\n",
        "    \n",
        "    # Divergences\n",
        "    ax = plt.subplot(gs[0, 0])\n",
        "    e = normalize(np.array([1, 1, 1]))\n",
        "    v0 = [divergence(e, x) for x in data[0]]\n",
        "    ys0 = process_data(v0)\n",
        "    \n",
        "    for i, (momentum, color) in list(enumerate(params)):\n",
        "        v = [divergence(e, x) for x in data[i]]\n",
        "        ys = process_data(v)\n",
        "        if isinstance(momentum, float) or isinstance(momentum, int):\n",
        "          label = '$\\\\beta$ = {:.2f}'.format(momentum)\n",
        "        else:\n",
        "          label = momentum\n",
        "        ax.plot(domain, ys, color=color, label=label)\n",
        "    ax.set_title(\"Time to\")\n",
        "    ax.legend()\n",
        "\n",
        "    ax = plt.subplot(gs[0, 1])\n",
        "    e = normalize(np.array([1, 1, 1]))\n",
        "    v0 = [divergence(e, x) for x in data[0]]\n",
        "    ys0 = process_data(v0)\n",
        "    \n",
        "    for i, (momentum, color) in list(enumerate(params)):\n",
        "        v = [divergence(e, x) for x in data[i]]\n",
        "        ys = process_data(v)\n",
        "        if isinstance(momentum, float) or isinstance(momentum, int):\n",
        "          label = '$\\\\beta$ = {:.2f}'.format(momentum)\n",
        "        else:\n",
        "          label = momentum\n",
        "        ax.plot(domain, ys / ys0, color=color, label=label)\n",
        "    ax.set_title(\"Time to relative\")\n",
        "    ax.legend()\n",
        "\n",
        "def approximate_q(data, params, divergence=None, domain=None):\n",
        "    if not divergence:\n",
        "        divergence = information.kl_divergence\n",
        "\n",
        "    def process_data(ds):\n",
        "        qs = []\n",
        "        for i in range(3, len(ds)):\n",
        "            q_n = np.log(np.abs(ds[i  ] - ds[i-1]) / np.abs(ds[i-1] - ds[i-2]))\n",
        "            q_d = np.log(np.abs(ds[i-1] - ds[i-2]) / np.abs(ds[i-2] - ds[i-3]))\n",
        "            q = q_n / q_d\n",
        "            qs.append(q)\n",
        "        return qs\n",
        "    \n",
        "    gs = gridspec.GridSpec(1, 1)\n",
        "    \n",
        "    # Divergences\n",
        "    ax = plt.subplot(gs[0, 0])\n",
        "    e = normalize(np.array([1, 1, 1]))\n",
        "    \n",
        "    for i, (momentum, color) in list(enumerate(params)):\n",
        "        v = [divergence(e, x) for x in data[i]]\n",
        "        ys = process_data(v)\n",
        "        if isinstance(momentum, float) or isinstance(momentum, int):\n",
        "          label = '$\\\\beta$ = {:.2f}'.format(momentum)\n",
        "        else:\n",
        "          label = momentum\n",
        "        ax.plot(range(len(ys)), ys, color=color, label=label)\n",
        "    ax.set_title(\"Approximate Order\")\n",
        "    ax.legend()\n",
        "        "
      ],
      "execution_count": 0,
      "outputs": []
    },
    {
      "cell_type": "code",
      "metadata": {
        "id": "uKc2DTWJ3EEG",
        "colab_type": "code",
        "colab": {}
      },
      "source": [
        ""
      ],
      "execution_count": 0,
      "outputs": []
    },
    {
      "cell_type": "markdown",
      "metadata": {
        "id": "Fw0D25Ff3EEK",
        "colab_type": "text"
      },
      "source": [
        "# Figures Actually in the Paper\n",
        "\n",
        "## Diagram for momentum"
      ]
    },
    {
      "cell_type": "code",
      "metadata": {
        "scrolled": false,
        "id": "wcP3_8uE3EEL",
        "colab_type": "code",
        "colab": {}
      },
      "source": [
        "betas = np.linspace(-1, 3, num=51, endpoint=True, retstep=False, dtype=None, axis=0)\n",
        "ys = [(1. / (1 - beta)) for beta in betas]\n",
        "\n",
        "\n",
        "fig, ax = plt.subplots(figsize=(20, 10))\n",
        "\n",
        "plt.plot(betas, ys, linewidth=3)\n",
        "plt.axvline(x=0, ymin=-25, ymax=25, dashes=[3,3], color='grey')\n",
        "plt.axvline(x=1, ymin=-25, ymax=25, dashes=[2,2], color='black')\n",
        "plt.axvline(x=2, ymin=-25, ymax=25, dashes=[2,2], color='black')\n",
        "\n",
        "plt.axhline(y=0, xmin=-1, xmax=3, color='black')\n",
        "plt.axhline(y=1, xmin=-1, xmax=3, dashes=[2,2], color='black')\n",
        "plt.axhline(y=-1, xmin=-1, xmax=3, dashes=[2,2], color='black')\n",
        "\n",
        "plt.plot([0], [1], marker='o', markersize=10, color=\"red\")\n",
        "plt.ylim(-5, 5)\n",
        "plt.xlim(-1, 3)\n",
        "\n",
        "ax.annotate('Velocity increasing',\n",
        "            xy=(-0.5, 3), xycoords='data',\n",
        "            xytext=(-100, 60), textcoords='offset points',\n",
        "            size=30)\n",
        "\n",
        "ax.annotate('Velocity decreasing and\\nreversed',\n",
        "            xy=(1.8, -3), xycoords='data',\n",
        "            xytext=(-30, -30), textcoords='offset points',\n",
        "            size=30)\n",
        "\n",
        "\n",
        "ax.annotate('Momentum free',\n",
        "            xy=(-0.05, 1.5), xycoords='data',\n",
        "            xytext=(-100, 60), textcoords='offset points',\n",
        "            size=20, color='r',\n",
        "            arrowprops=dict(arrowstyle=\"->\"))\n",
        "\n",
        "plt.xlabel(r\"Momentum $\\beta$\", size=40)\n",
        "plt.ylabel(r\"Coefficient $\\frac{1}{1-\\beta}$\", size=40)\n",
        "plt.xticks(range(-1, 4, 1), range(-1, 4, 1), size=20)\n",
        "plt.yticks(range(-4, 5, 2), range(-4, 5, 2), size=20)\n",
        "\n",
        "path = Path(\"images\") / \"momentum_beta.png\"\n",
        "plt.savefig(str(path), dpi=400)"
      ],
      "execution_count": 0,
      "outputs": []
    },
    {
      "cell_type": "code",
      "metadata": {
        "id": "r7jzaDyV3EEU",
        "colab_type": "code",
        "colab": {}
      },
      "source": [
        ""
      ],
      "execution_count": 0,
      "outputs": []
    },
    {
      "cell_type": "markdown",
      "metadata": {
        "id": "lIZqIoUM3EEY",
        "colab_type": "text"
      },
      "source": [
        "# Phase Portraits and KL-divergence"
      ]
    },
    {
      "cell_type": "code",
      "metadata": {
        "id": "mivRgIpl3EEb",
        "colab_type": "code",
        "colab": {}
      },
      "source": [
        "initial_state = normalize(np.array([1, 1, 3]))\n",
        "\n",
        "# Dynamics parameters\n",
        "m = rock_paper_scissors(a=2, b=-1)\n",
        "print(m)\n",
        "fitness = linear_fitness(m)\n",
        "incentive = replicator_incentive_power(fitness, 1)\n",
        "mu = uniform_mutation_matrix(3, ep=0.)\n",
        "\n",
        "# Various momenta\n",
        "params = [(-0.5, 'b'), (0, 'black'), (0.5, 'g'), (0.9, 'r')]\n",
        "data = []\n",
        "\n",
        "for momentum, _ in params:\n",
        "    t = compute_trajectory(\n",
        "        initial_state,\n",
        "        incentive,\n",
        "        iterations=1000,\n",
        "        mu=mu,\n",
        "        momentum=momentum,\n",
        "        h=0.01)\n",
        "    data.append(t)\n",
        "\n",
        "plot_trajectories(data, params)\n",
        "path = Path(\"images\") / \"divergence_example.png\"\n",
        "plt.savefig(str(path), dpi=400)"
      ],
      "execution_count": 0,
      "outputs": []
    },
    {
      "cell_type": "code",
      "metadata": {
        "id": "7wU1i5Py3EEf",
        "colab_type": "code",
        "colab": {}
      },
      "source": [
        ""
      ],
      "execution_count": 0,
      "outputs": []
    },
    {
      "cell_type": "code",
      "metadata": {
        "id": "BiZPLmoB3EEi",
        "colab_type": "code",
        "colab": {}
      },
      "source": [
        "initial_state = normalize(np.array([1, 1, 4]))\n",
        "\n",
        "# Dynamics parameters\n",
        "m = rock_paper_scissors(a=-1, b=1)\n",
        "fitness = linear_fitness(m)\n",
        "incentive = replicator_incentive_power(fitness, 1)\n",
        "# incentive = fermi_incentive(fitness, beta=1)\n",
        "mu = uniform_mutation_matrix(3, ep=0.)\n",
        "\n",
        "momentum = .7\n",
        "params = [('Polyak', 'red'), ('Nesterov', 'blue')]\n",
        "data = []\n",
        "\n",
        "for nesterov in [False, True]:\n",
        "  t = compute_trajectory(\n",
        "      initial_state,\n",
        "      incentive,\n",
        "      iterations=3000,\n",
        "      mu=mu,\n",
        "      momentum=momentum,\n",
        "      nesterov=nesterov\n",
        "    )\n",
        "  data.append(t)\n",
        "\n",
        "t = compute_trajectory(\n",
        "  initial_state,\n",
        "  incentive,\n",
        "  iterations=3000,\n",
        "  mu=mu,\n",
        "  momentum=0,\n",
        "  nesterov=nesterov\n",
        ")\n",
        "data.append(t)\n",
        "params.append((\"Momentum free\", \"black\"))\n",
        "    \n",
        "plot_trajectories(data, params)\n",
        "path = Path(\"images\") / \"convergence_divergence.png\"\n",
        "plt.savefig(str(path), dpi=400)"
      ],
      "execution_count": 0,
      "outputs": []
    },
    {
      "cell_type": "code",
      "metadata": {
        "id": "oq8JiFyx3EEu",
        "colab_type": "code",
        "colab": {}
      },
      "source": [
        ""
      ],
      "execution_count": 0,
      "outputs": []
    },
    {
      "cell_type": "code",
      "metadata": {
        "id": "3w62GVcz3EEx",
        "colab_type": "code",
        "colab": {}
      },
      "source": [
        "initial_state = normalize(np.array([1, 1, 4]))\n",
        "\n",
        "# Dynamics parameters\n",
        "m = rock_paper_scissors(a=2, b=1)\n",
        "fitness = linear_fitness(m)\n",
        "incentive = replicator_incentive_power(fitness, 1)\n",
        "mu = uniform_mutation_matrix(3, ep=0.)\n",
        "\n",
        "# Various momenta\n",
        "params = [(0, 'black'), (.5, 'b'), (0.9, 'r'), (0.95, 'y'), (0.96, 'g')]\n",
        "data = []\n",
        "\n",
        "for momentum, _ in params:\n",
        "    t = compute_trajectory(\n",
        "        initial_state,\n",
        "        incentive,\n",
        "        iterations=1000,\n",
        "        mu=mu,\n",
        "        momentum=momentum)\n",
        "    data.append(t)\n",
        "\n",
        "plot_trajectories(data, params)\n",
        "path = Path(\"images\") / \"polyak_examples.png\"\n",
        "plt.savefig(str(path), dpi=400)"
      ],
      "execution_count": 0,
      "outputs": []
    },
    {
      "cell_type": "code",
      "metadata": {
        "id": "CIimHGBK3EE1",
        "colab_type": "code",
        "colab": {}
      },
      "source": [
        ""
      ],
      "execution_count": 0,
      "outputs": []
    },
    {
      "cell_type": "code",
      "metadata": {
        "scrolled": false,
        "id": "IyEmxiwN3EE5",
        "colab_type": "code",
        "colab": {}
      },
      "source": [
        "initial_state = normalize(np.array([1, 1, 4]))\n",
        "\n",
        "# Dynamics parameters\n",
        "m = rock_paper_scissors(a=2, b=1)\n",
        "fitness = linear_fitness(m)\n",
        "incentive = replicator_incentive_power(fitness, 1)\n",
        "mu = uniform_mutation_matrix(3, ep=0.)\n",
        "\n",
        "# Various momenta\n",
        "params = [(0, 'black'), (.5, 'b'), (0.9, 'r'), (0.95, 'y'), (0.96, 'g')]\n",
        "data = []\n",
        "\n",
        "for momentum, _ in params:\n",
        "    t = compute_trajectory(\n",
        "        initial_state,\n",
        "        incentive,\n",
        "        iterations=1000,\n",
        "        mu=mu,\n",
        "        momentum=momentum,\n",
        "        nesterov=True\n",
        "        )\n",
        "    data.append(t)\n",
        "\n",
        "plot_trajectories(data, params)\n",
        "path = Path(\"images\") / \"nesterov_examples.png\"\n",
        "plt.savefig(str(path), dpi=400)"
      ],
      "execution_count": 0,
      "outputs": []
    },
    {
      "cell_type": "code",
      "metadata": {
        "id": "sWyq4DGB3EE8",
        "colab_type": "code",
        "colab": {}
      },
      "source": [
        ""
      ],
      "execution_count": 0,
      "outputs": []
    },
    {
      "cell_type": "markdown",
      "metadata": {
        "id": "u4NYCB7p3EFA",
        "colab_type": "text"
      },
      "source": [
        "# Convergence"
      ]
    },
    {
      "cell_type": "code",
      "metadata": {
        "id": "iHkbzI8m7Mrq",
        "colab_type": "code",
        "colab": {}
      },
      "source": [
        "trajectory_fun = partial(replicator_trajectory, initial_state, fitness,\n",
        "                         iterations=20000, exit_on_uniform=False,\n",
        "                         exit_on_divergence_tol=True, divergence_tol=.01)\n",
        "\n",
        "def num_iterations(betas, alpha, nesterov=False):\n",
        "  return [len(trajectory_fun(momentum=beta, h=alpha, nesterov=nesterov)) for beta in betas]\n",
        "\n",
        "def get_no_momentum_iter(alpha):\n",
        "  return len(trajectory_fun(momentum=0.0, h=alpha))\n",
        "\n",
        "initial_state = normalize(np.array([1, 1, 4]))\n",
        "\n",
        "# Dynamics parameters\n",
        "m = rock_paper_scissors(a=1, b=1)\n",
        "fitness = linear_fitness(m)\n",
        "betas = np.linspace(-0.9, 0.9, num=100)\n",
        "learning_rate = 1/200 # (aka step size aka \\alpha)\n",
        "no_momentum_num_iter = get_no_momentum_iter(learning_rate)\n",
        "\n",
        "polyak_iterations = num_iterations(betas, learning_rate, nesterov=False)\n",
        "nesterov_iterations = num_iterations(betas, learning_rate, nesterov=True)\n",
        "\n",
        "fig, ax = plt.subplots(figsize=(10, 10))\n",
        "plt.plot(betas, np.array(polyak_iterations) / no_momentum_num_iter,\n",
        "         label='Actual number of steps, Polyak momentum, learning rate: {}'.format(learning_rate))\n",
        "plt.plot(betas, np.array(nesterov_iterations) / no_momentum_num_iter,\n",
        "         label='Actual number of steps, Nesterov momentum, learning rate: {}'.format(learning_rate))\n",
        "plt.plot(betas, (1 - betas), label='Predicted number of steps with Polyak momentum')\n",
        "# I.e, no_momentum_num_iter / (1 / (1 - betas))\n",
        "plt.axhline(1, linestyle='--', label='$\\\\beta$ = 0')\n",
        "plt.xlabel(\"$\\\\beta$\")\n",
        "plt.ylabel(\"Number of iterations till $D(\\hat{x}, x) \\leq .01$ relative to $\\\\beta = 0$\")\n",
        "plt.title(\"Momentum vs. number of steps to approximate convergence\")\n",
        "plt.legend()\n",
        "path = Path(\"images\") / \"time_to_converge_nesterov.png\"\n",
        "plt.savefig(str(path), dpi=400)"
      ],
      "execution_count": 0,
      "outputs": []
    },
    {
      "cell_type": "code",
      "metadata": {
        "id": "GCWo7VBE7Mpy",
        "colab_type": "code",
        "colab": {}
      },
      "source": [
        "def plot_actual_vs_predicted_steps(betas, alphas, normed=False):\n",
        "  fig, ax = plt.subplots(figsize=(10, 10))\n",
        "  for i, alpha in enumerate(alphas):\n",
        "    iterations = np.array(num_iterations(betas, alpha))\n",
        "    no_momentum_num_iter = get_no_momentum_iter(alpha)\n",
        "    predicted = np.array(no_momentum_num_iter * (1 - betas))\n",
        "    if normed:\n",
        "      # I.e, no_momentum_num_iter / (1 / (1 - betas))\n",
        "      if i == 0:\n",
        "        ax.plot(betas, 1 - betas,\n",
        "                label='Predicted number of steps', color='black')\n",
        "        ax.axhline(no_momentum_num_iter / no_momentum_num_iter,\n",
        "                   linestyle='--', label='$\\\\beta$ = 0')\n",
        "      ax.plot(betas, iterations / no_momentum_num_iter,\n",
        "              label='Actual number of steps, learning rate: {:.2f}'.format(alpha))\n",
        "    else:\n",
        "      ax.plot(betas, iterations,\n",
        "              label='Actual number of steps, learning rate: {:.2f}'.format(alpha))\n",
        "      ax.plot(betas, predicted,\n",
        "              label='Predicted number of steps, learning rate: {:.2f}'.format(alpha))\n",
        "      # I.e, no_momentum_num_iter / (1 / (1 - betas))\n",
        "      ax.axhline(no_momentum_num_iter, linestyle='--',\n",
        "                 label='$\\\\beta$ = 0 , lr = {:.2f}: {} steps'.format(alpha, no_momentum_num_iter))\n",
        "  plt.xlabel(\"$\\\\beta$\")\n",
        "  if normed:\n",
        "    plt.ylabel(\"Number of iterations till $D(\\hat{x}, x) \\leq .01$ relative to $\\\\beta = 0$\")\n",
        "  else:\n",
        "    plt.ylabel(\"Number of iterations till $D(\\hat{x}, x) \\leq .01$\")\n",
        "  plt.title(\"Momentum vs. number of steps to approximate convergence\")\n",
        "  plt.legend()"
      ],
      "execution_count": 0,
      "outputs": []
    },
    {
      "cell_type": "code",
      "metadata": {
        "id": "bm-Zfhhw7MlA",
        "colab_type": "code",
        "colab": {}
      },
      "source": [
        "betas = np.linspace(-0.9, 0.9, num=200)\n",
        "plot_actual_vs_predicted_steps(betas, [.05, .1, .15], normed=True)\n",
        "path = Path(\"images\") / \"time_to_converge.png\"\n",
        "plt.savefig(str(path), dpi=400)"
      ],
      "execution_count": 0,
      "outputs": []
    },
    {
      "cell_type": "code",
      "metadata": {
        "id": "iG3DH3uSAh60",
        "colab_type": "code",
        "colab": {}
      },
      "source": [
        ""
      ],
      "execution_count": 0,
      "outputs": []
    }
  ]
}